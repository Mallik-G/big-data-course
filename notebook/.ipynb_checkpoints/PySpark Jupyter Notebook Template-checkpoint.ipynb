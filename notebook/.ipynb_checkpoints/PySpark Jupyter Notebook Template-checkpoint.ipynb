{
 "cells": [
  {
   "cell_type": "markdown",
   "metadata": {},
   "source": [
    "# Instalasi\n",
    "## JDK\n",
    "1. Download JDK terbaru dari http://www.oracle.com/technetwork/java/javase/downloads/jdk8-downloads-2133151.html\n",
    "2. Set environment variable JAVA_HOME https://docs.oracle.com/cd/E19182-01/820-7851/inst_cli_jdk_javahome_t/\n",
    "\n",
    "## Apache Spark\n",
    "1. Download Apache Spark dari http://spark.apache.org/downloads.html. Pilih versi 2.1.0 untuk Hadoop 2.7 and later.\n",
    "2. Extract Apache Spark ke dalam sebuah folder. Misal: `D:\\spark`.\n",
    "\n",
    "## winutils.exe\n",
    "1. Download winutils.exe dari https://github.com/steveloughran/winutils/blob/master/hadoop-2.6.0/bin/winutils.exe?raw=true\n",
    "2. Letakkan winutils.exe ke dalam folder bin milik Apache Spark. Misal: `D:\\spark\\bin\\`.\n",
    "\n",
    "## Anaconda\n",
    "1. Download Anaconda (salah satu distribusi Python populer) dari https://www.continuum.io/downloads. Pilih versi **Python 2.7**.\n",
    "2. Lakukan instalasi seperti biasa.\n",
    "\n",
    "## Jupyter Notebook\n",
    "1. Jupyter Notebook secara otomatis terinstal saat kita menginstal Anaconda.\n",
    "2. Untuk menjalankannya, lakukan baris perintah berikut di dalam *command prompt*.  \n",
    "Misal kita ingin menjalankan Jupyter Notebook dengan home directory `D:\\python-project`.\n",
    "```\n",
    ">> cd D:\\python-project\\\n",
    ">> D:\n",
    ">> jupyter notebook\n",
    "```"
   ]
  },
  {
   "cell_type": "code",
   "execution_count": 1,
   "metadata": {
    "collapsed": false
   },
   "outputs": [
    {
     "name": "stdout",
     "output_type": "stream",
     "text": [
      "<pyspark.context.SparkContext object at 0x041BA290>\n"
     ]
    }
   ],
   "source": [
    "# Konfigurasi Spark\n",
    "import os\n",
    "import sys\n",
    "\n",
    "# 1. Mengeset variabel yang menyimpan lokasi di mana Spark diinstal\n",
    "spark_path = \"D:/spark\"\n",
    "\n",
    "# 2. Menentukan environment variable SPARK_HOME\n",
    "os.environ['SPARK_HOME'] = spark_path\n",
    "\n",
    "# 3. Simpan lokasi winutils.exe sebagai environment variable HADOOP_HOME\n",
    "os.environ['HADOOP_HOME'] = spark_path\n",
    "\n",
    "# 4. Lokasi Python yang dijalankan --> punya Anaconda\n",
    "#    Apabila Python yang diinstall hanya Anaconda, maka tidak perlu menjalankan baris ini.\n",
    "os.environ['PYSPARK_PYTHON'] = sys.executable\n",
    "\n",
    "# 5. Konfigurasi path library PySpark\n",
    "sys.path.append(spark_path + \"/bin\")\n",
    "sys.path.append(spark_path + \"/python\")\n",
    "sys.path.append(spark_path + \"/python/pyspark/\")\n",
    "sys.path.append(spark_path + \"/python/lib\")\n",
    "sys.path.append(spark_path + \"/python/lib/pyspark.zip\")\n",
    "sys.path.append(spark_path + \"/python/lib/py4j-0.10.4-src.zip\")\n",
    "\n",
    "# 6. Import library Spark\n",
    "#    Dua library yang WAJIB di-import adalah **SparkContext** dan **SparkConf**.\n",
    "from pyspark import SparkContext\n",
    "from pyspark import SparkConf\n",
    "\n",
    "# Setting konfigurasi (opsional)\n",
    "conf = SparkConf()\n",
    "conf.set(\"spark.executor.memory\", \"2g\")\n",
    "conf.set(\"spark.cores.max\", \"4\")\n",
    "\n",
    "sc = SparkContext(\"local\", conf=conf)\n",
    "#    Apabila berhasil, maka ketika sc di-print akan mengeluarkan nilai <pyspark.context.SparkContext object>\n",
    "print sc\n"
   ]
  },
  {
   "cell_type": "code",
   "execution_count": 1,
   "metadata": {
    "collapsed": true
   },
   "outputs": [],
   "source": [
    "# 7. Selanjutnya dapat dilakukan pemrosesan data menggunakan library PySpark"
   ]
  }
 ],
 "metadata": {
  "kernelspec": {
   "display_name": "Python 2",
   "language": "python",
   "name": "python2"
  },
  "language_info": {
   "codemirror_mode": {
    "name": "ipython",
    "version": 2
   },
   "file_extension": ".py",
   "mimetype": "text/x-python",
   "name": "python",
   "nbconvert_exporter": "python",
   "pygments_lexer": "ipython2",
   "version": "2.7.13"
  }
 },
 "nbformat": 4,
 "nbformat_minor": 1
}
